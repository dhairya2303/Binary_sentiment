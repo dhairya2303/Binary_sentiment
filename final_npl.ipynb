{
 "cells": [
  {
   "cell_type": "code",
   "execution_count": 1,
   "metadata": {
    "_cell_guid": "3e6ffd55-357d-4a57-a5a1-74e5c4c775e8",
    "_uuid": "a67338d0-8c88-4c4e-84f8-c76c1f09f4df",
    "execution": {
     "iopub.execute_input": "2020-12-15T03:20:56.594207Z",
     "iopub.status.busy": "2020-12-15T03:20:56.593259Z",
     "iopub.status.idle": "2020-12-15T03:20:56.604442Z",
     "shell.execute_reply": "2020-12-15T03:20:56.605014Z"
    },
    "papermill": {
     "duration": 0.053167,
     "end_time": "2020-12-15T03:20:56.605245",
     "exception": false,
     "start_time": "2020-12-15T03:20:56.552078",
     "status": "completed"
    },
    "tags": []
   },
   "outputs": [
    {
     "name": "stdout",
     "output_type": "stream",
     "text": [
      "/kaggle/input/glove6b100dtxt/glove.6B.100d.txt\n",
      "/kaggle/input/nlp-getting-started/sample_submission.csv\n",
      "/kaggle/input/nlp-getting-started/train.csv\n",
      "/kaggle/input/nlp-getting-started/test.csv\n"
     ]
    }
   ],
   "source": [
    "import numpy as np \n",
    "import pandas as pd \n",
    "\n",
    "\n",
    "import os\n",
    "for dirname, _, filenames in os.walk('/kaggle/input'):\n",
    "    for filename in filenames:\n",
    "        print(os.path.join(dirname, filename))\n"
   ]
  },
  {
   "cell_type": "code",
   "execution_count": 2,
   "metadata": {
    "execution": {
     "iopub.execute_input": "2020-12-15T03:20:56.682667Z",
     "iopub.status.busy": "2020-12-15T03:20:56.681828Z",
     "iopub.status.idle": "2020-12-15T03:21:05.227597Z",
     "shell.execute_reply": "2020-12-15T03:21:05.226844Z"
    },
    "papermill": {
     "duration": 8.588826,
     "end_time": "2020-12-15T03:21:05.227763",
     "exception": false,
     "start_time": "2020-12-15T03:20:56.638937",
     "status": "completed"
    },
    "tags": []
   },
   "outputs": [],
   "source": [
    "import numpy as np\n",
    "import pandas as pd\n",
    "from tqdm import tqdm\n",
    "\n",
    "import re\n",
    "import string\n",
    "\n",
    "import nltk\n",
    "from nltk.corpus import stopwords\n",
    "stop_words = stopwords.words('english')\n",
    "\n",
    "\n",
    "import tensorflow as tf\n",
    "from tensorflow.keras.preprocessing.text import Tokenizer\n",
    "from tensorflow.keras.preprocessing.sequence import pad_sequences\n",
    "from tensorflow.keras.models import Sequential\n",
    "from tensorflow.keras.layers import Embedding\n",
    "from tensorflow.keras.initializers import Constant\n",
    "from tensorflow.keras.callbacks import EarlyStopping\n",
    "\n",
    "from sklearn.model_selection import train_test_split\n",
    "from sklearn.metrics import confusion_matrix,classification_report\n",
    "\n",
    "import matplotlib.pyplot as plt\n",
    "import seaborn as sns"
   ]
  },
  {
   "cell_type": "code",
   "execution_count": 3,
   "metadata": {
    "execution": {
     "iopub.execute_input": "2020-12-15T03:21:05.310407Z",
     "iopub.status.busy": "2020-12-15T03:21:05.303693Z",
     "iopub.status.idle": "2020-12-15T03:21:05.391183Z",
     "shell.execute_reply": "2020-12-15T03:21:05.392006Z"
    },
    "papermill": {
     "duration": 0.13136,
     "end_time": "2020-12-15T03:21:05.392233",
     "exception": false,
     "start_time": "2020-12-15T03:21:05.260873",
     "status": "completed"
    },
    "tags": []
   },
   "outputs": [
    {
     "name": "stdout",
     "output_type": "stream",
     "text": [
      "(7613, 5)\n"
     ]
    },
    {
     "data": {
      "text/html": [
       "<div>\n",
       "<style scoped>\n",
       "    .dataframe tbody tr th:only-of-type {\n",
       "        vertical-align: middle;\n",
       "    }\n",
       "\n",
       "    .dataframe tbody tr th {\n",
       "        vertical-align: top;\n",
       "    }\n",
       "\n",
       "    .dataframe thead th {\n",
       "        text-align: right;\n",
       "    }\n",
       "</style>\n",
       "<table border=\"1\" class=\"dataframe\">\n",
       "  <thead>\n",
       "    <tr style=\"text-align: right;\">\n",
       "      <th></th>\n",
       "      <th>id</th>\n",
       "      <th>keyword</th>\n",
       "      <th>location</th>\n",
       "      <th>text</th>\n",
       "      <th>target</th>\n",
       "    </tr>\n",
       "  </thead>\n",
       "  <tbody>\n",
       "    <tr>\n",
       "      <th>0</th>\n",
       "      <td>1</td>\n",
       "      <td>NaN</td>\n",
       "      <td>NaN</td>\n",
       "      <td>Our Deeds are the Reason of this #earthquake M...</td>\n",
       "      <td>1</td>\n",
       "    </tr>\n",
       "    <tr>\n",
       "      <th>1</th>\n",
       "      <td>4</td>\n",
       "      <td>NaN</td>\n",
       "      <td>NaN</td>\n",
       "      <td>Forest fire near La Ronge Sask. Canada</td>\n",
       "      <td>1</td>\n",
       "    </tr>\n",
       "    <tr>\n",
       "      <th>2</th>\n",
       "      <td>5</td>\n",
       "      <td>NaN</td>\n",
       "      <td>NaN</td>\n",
       "      <td>All residents asked to 'shelter in place' are ...</td>\n",
       "      <td>1</td>\n",
       "    </tr>\n",
       "    <tr>\n",
       "      <th>3</th>\n",
       "      <td>6</td>\n",
       "      <td>NaN</td>\n",
       "      <td>NaN</td>\n",
       "      <td>13,000 people receive #wildfires evacuation or...</td>\n",
       "      <td>1</td>\n",
       "    </tr>\n",
       "    <tr>\n",
       "      <th>4</th>\n",
       "      <td>7</td>\n",
       "      <td>NaN</td>\n",
       "      <td>NaN</td>\n",
       "      <td>Just got sent this photo from Ruby #Alaska as ...</td>\n",
       "      <td>1</td>\n",
       "    </tr>\n",
       "  </tbody>\n",
       "</table>\n",
       "</div>"
      ],
      "text/plain": [
       "   id keyword location                                               text  \\\n",
       "0   1     NaN      NaN  Our Deeds are the Reason of this #earthquake M...   \n",
       "1   4     NaN      NaN             Forest fire near La Ronge Sask. Canada   \n",
       "2   5     NaN      NaN  All residents asked to 'shelter in place' are ...   \n",
       "3   6     NaN      NaN  13,000 people receive #wildfires evacuation or...   \n",
       "4   7     NaN      NaN  Just got sent this photo from Ruby #Alaska as ...   \n",
       "\n",
       "   target  \n",
       "0       1  \n",
       "1       1  \n",
       "2       1  \n",
       "3       1  \n",
       "4       1  "
      ]
     },
     "execution_count": 3,
     "metadata": {},
     "output_type": "execute_result"
    }
   ],
   "source": [
    "train_data = pd.read_csv(\"/kaggle/input/nlp-getting-started/train.csv\") \n",
    "# data=pd.read_csv(\"/kaggle/input/nlp-getting-started/train.csv\") #train\n",
    "\n",
    "# test=pd.read_csv(\"/kaggle/input/nlp-getting-started/test.csv\") #test\n",
    "\n",
    "\n",
    "print(train_data.shape)\n",
    "train_data.head()"
   ]
  },
  {
   "cell_type": "code",
   "execution_count": 4,
   "metadata": {
    "execution": {
     "iopub.execute_input": "2020-12-15T03:21:05.468620Z",
     "iopub.status.busy": "2020-12-15T03:21:05.467805Z",
     "iopub.status.idle": "2020-12-15T03:21:05.507723Z",
     "shell.execute_reply": "2020-12-15T03:21:05.506911Z"
    },
    "papermill": {
     "duration": 0.081304,
     "end_time": "2020-12-15T03:21:05.507855",
     "exception": false,
     "start_time": "2020-12-15T03:21:05.426551",
     "status": "completed"
    },
    "tags": []
   },
   "outputs": [
    {
     "name": "stdout",
     "output_type": "stream",
     "text": [
      "(3263, 4)\n"
     ]
    }
   ],
   "source": [
    "test_data = pd.read_csv(\"/kaggle/input/nlp-getting-started/test.csv\")\n",
    "print(test_data.shape)\n",
    "# test_data.head()\n",
    "sub = pd.read_csv('/kaggle/input/nlp-getting-started/sample_submission.csv') #submission"
   ]
  },
  {
   "cell_type": "code",
   "execution_count": 5,
   "metadata": {
    "execution": {
     "iopub.execute_input": "2020-12-15T03:21:05.595123Z",
     "iopub.status.busy": "2020-12-15T03:21:05.585681Z",
     "iopub.status.idle": "2020-12-15T03:21:05.599561Z",
     "shell.execute_reply": "2020-12-15T03:21:05.598417Z"
    },
    "papermill": {
     "duration": 0.057189,
     "end_time": "2020-12-15T03:21:05.599746",
     "exception": false,
     "start_time": "2020-12-15T03:21:05.542557",
     "status": "completed"
    },
    "tags": []
   },
   "outputs": [
    {
     "name": "stdout",
     "output_type": "stream",
     "text": [
      "<class 'pandas.core.frame.DataFrame'>\n",
      "RangeIndex: 7613 entries, 0 to 7612\n",
      "Data columns (total 5 columns):\n",
      " #   Column    Non-Null Count  Dtype \n",
      "---  ------    --------------  ----- \n",
      " 0   id        7613 non-null   int64 \n",
      " 1   keyword   7552 non-null   object\n",
      " 2   location  5080 non-null   object\n",
      " 3   text      7613 non-null   object\n",
      " 4   target    7613 non-null   int64 \n",
      "dtypes: int64(2), object(3)\n",
      "memory usage: 297.5+ KB\n"
     ]
    }
   ],
   "source": [
    "train_data.info()"
   ]
  },
  {
   "cell_type": "code",
   "execution_count": 6,
   "metadata": {
    "execution": {
     "iopub.execute_input": "2020-12-15T03:21:05.681346Z",
     "iopub.status.busy": "2020-12-15T03:21:05.679092Z",
     "iopub.status.idle": "2020-12-15T03:21:05.685524Z",
     "shell.execute_reply": "2020-12-15T03:21:05.684789Z"
    },
    "papermill": {
     "duration": 0.050307,
     "end_time": "2020-12-15T03:21:05.685651",
     "exception": false,
     "start_time": "2020-12-15T03:21:05.635344",
     "status": "completed"
    },
    "tags": []
   },
   "outputs": [
    {
     "data": {
      "text/plain": [
       "id          7613\n",
       "keyword     7552\n",
       "location    5080\n",
       "text        7613\n",
       "target      7613\n",
       "dtype: int64"
      ]
     },
     "execution_count": 6,
     "metadata": {},
     "output_type": "execute_result"
    }
   ],
   "source": [
    "train_data.count()"
   ]
  },
  {
   "cell_type": "code",
   "execution_count": 7,
   "metadata": {
    "execution": {
     "iopub.execute_input": "2020-12-15T03:21:05.764538Z",
     "iopub.status.busy": "2020-12-15T03:21:05.763755Z",
     "iopub.status.idle": "2020-12-15T03:21:05.944047Z",
     "shell.execute_reply": "2020-12-15T03:21:05.943201Z"
    },
    "papermill": {
     "duration": 0.22274,
     "end_time": "2020-12-15T03:21:05.944205",
     "exception": false,
     "start_time": "2020-12-15T03:21:05.721465",
     "status": "completed"
    },
    "tags": []
   },
   "outputs": [
    {
     "data": {
      "text/plain": [
       "<matplotlib.axes._subplots.AxesSubplot at 0x7fe768ac6490>"
      ]
     },
     "execution_count": 7,
     "metadata": {},
     "output_type": "execute_result"
    },
    {
     "data": {
      "image/png": "[encoded data removed]",
      "text/plain": [
       "<Figure size 432x288 with 1 Axes>"
      ]
     },
     "metadata": {
      "needs_background": "light"
     },
     "output_type": "display_data"
    }
   ],
   "source": [
    "sns.countplot(x=\"target\", data=train_data)"
   ]
  },
  {
   "cell_type": "code",
   "execution_count": 8,
   "metadata": {
    "execution": {
     "iopub.execute_input": "2020-12-15T03:21:06.032422Z",
     "iopub.status.busy": "2020-12-15T03:21:06.031253Z",
     "iopub.status.idle": "2020-12-15T03:21:06.035008Z",
     "shell.execute_reply": "2020-12-15T03:21:06.034242Z"
    },
    "papermill": {
     "duration": 0.053659,
     "end_time": "2020-12-15T03:21:06.035154",
     "exception": false,
     "start_time": "2020-12-15T03:21:05.981495",
     "status": "completed"
    },
    "tags": []
   },
   "outputs": [],
   "source": [
    "def clean_text(text):\n",
    "    \n",
    "    sw = stopwords.words('english')\n",
    "    \n",
    "    text = re.sub(r\"[^a-zA-Z?.!,¿]+\", \" \", text) # replacing everything with space except (a-z, A-Z, \".\", \"?\", \"!\", \",\")\n",
    "\n",
    "    text = re.sub(r\"http\\S+\", \"\",text) #Removing URLs \n",
    "    #text = re.sub(r\"http\", \"\",text)\n",
    "    \n",
    "    html=re.compile(r'<.*?>') \n",
    "    \n",
    "    text = html.sub(r'',text) #Removing html tags\n",
    "    \n",
    "    punctuations = '@#!?+&*[]-%.:/();$=><|{}^' + \"'`\" + '_'\n",
    "    for p in punctuations:\n",
    "        text = text.replace(p,'') #Removing punctuations\n",
    "        \n",
    "    text = [word.lower() for word in text.split() if word.lower() not in sw]\n",
    "    \n",
    "    text = \" \".join(text) #removing stopwords\n",
    "    \n",
    "    emoji_pattern = re.compile(\"[\"\n",
    "                           u\"\\U0001F600-\\U0001F64F\"  # emoticons\n",
    "                           u\"\\U0001F300-\\U0001F5FF\"  # symbols & pictographs\n",
    "                           u\"\\U0001F680-\\U0001F6FF\"  # transport & map symbols\n",
    "                           u\"\\U0001F1E0-\\U0001F1FF\"  # flags (iOS)\n",
    "                           u\"\\U00002702-\\U000027B0\"\n",
    "                           u\"\\U000024C2-\\U0001F251\"\n",
    "                           \"]+\", flags=re.UNICODE)\n",
    "    text = emoji_pattern.sub(r'', text) #Removing emojis\n",
    "    \n",
    "    return text"
   ]
  },
  {
   "cell_type": "code",
   "execution_count": 9,
   "metadata": {
    "execution": {
     "iopub.execute_input": "2020-12-15T03:21:06.140563Z",
     "iopub.status.busy": "2020-12-15T03:21:06.139437Z",
     "iopub.status.idle": "2020-12-15T03:21:06.142504Z",
     "shell.execute_reply": "2020-12-15T03:21:06.141740Z"
    },
    "papermill": {
     "duration": 0.069813,
     "end_time": "2020-12-15T03:21:06.142635",
     "exception": false,
     "start_time": "2020-12-15T03:21:06.072822",
     "status": "completed"
    },
    "tags": []
   },
   "outputs": [],
   "source": [
    "mispell_dict = {\"ain't\": \"is not\", \"aren't\": \"are not\",\"can't\": \"cannot\", \"could've\": \"could have\", \"couldn't\": \"could not\", \"didn't\": \"did not\",  \"doesn't\": \"does not\", \"don't\": \"do not\", \"hadn't\": \"had not\", \"hasn't\": \"has not\", \"haven't\": \"have not\", \"he'd\": \"he would\",\"he'll\": \"he will\", \"he's\": \"he is\", \"how'd\": \"how did\", \"how'd'y\": \"how do you\", \"how'll\": \"how will\", \"how's\": \"how is\",  \"I'd\": \"I would\", \"I'd've\": \"I would have\", \"I'll\": \"I will\", \"I'll've\": \"I will have\",\"I'm\": \"I am\", \"I've\": \"I have\", \"i'd\": \"i would\", \"i'd've\": \"i would have\", \"i'll\": \"i will\",  \"i'll've\": \"i will have\",\"i'm\": \"i am\", \"i've\": \"i have\", \"isn't\": \"is not\", \"it'd\": \"it would\", \"it'd've\": \"it would have\", \"it'll\": \"it will\", \"it'll've\": \"it will have\",\"it's\": \"it is\", \"let's\": \"let us\", \"ma'am\": \"madam\", \"mayn't\": \"may not\", \"might've\": \"might have\",\"mightn't\": \"might not\",\"mightn't've\": \"might not have\", \"must've\": \"must have\", \"mustn't\": \"must not\", \"mustn't've\": \"must not have\", \"needn't\": \"need not\", \"needn't've\": \"need not have\",\"o'clock\": \"of the clock\", \"oughtn't\": \"ought not\", \"oughtn't've\": \"ought not have\", \"shan't\": \"shall not\", \"sha'n't\": \"shall not\", \"shan't've\": \"shall not have\", \"she'd\": \"she would\", \"she'd've\": \"she would have\", \"she'll\": \"she will\", \"she'll've\": \"she will have\", \"she's\": \"she is\", \"should've\": \"should have\", \"shouldn't\": \"should not\", \"shouldn't've\": \"should not have\", \"so've\": \"so have\",\"so's\": \"so as\", \"this's\": \"this is\",\"that'd\": \"that would\", \"that'd've\": \"that would have\", \"that's\": \"that is\", \"there'd\": \"there would\", \"there'd've\": \"there would have\", \"there's\": \"there is\", \"here's\": \"here is\",\"they'd\": \"they would\", \"they'd've\": \"they would have\", \"they'll\": \"they will\", \"they'll've\": \"they will have\", \"they're\": \"they are\", \"they've\": \"they have\", \"to've\": \"to have\", \"wasn't\": \"was not\", \"we'd\": \"we would\", \"we'd've\": \"we would have\", \"we'll\": \"we will\", \"we'll've\": \"we will have\", \"we're\": \"we are\", \"we've\": \"we have\", \"weren't\": \"were not\", \"what'll\": \"what will\", \"what'll've\": \"what will have\", \"what're\": \"what are\",  \"what's\": \"what is\", \"what've\": \"what have\", \"when's\": \"when is\", \"when've\": \"when have\", \"where'd\": \"where did\", \"where's\": \"where is\", \"where've\": \"where have\", \"who'll\": \"who will\", \"who'll've\": \"who will have\", \"who's\": \"who is\", \"who've\": \"who have\", \"why's\": \"why is\", \"why've\": \"why have\", \"will've\": \"will have\", \"won't\": \"will not\", \"won't've\": \"will not have\", \"would've\": \"would have\", \"wouldn't\": \"would not\", \"wouldn't've\": \"would not have\", \"y'all\": \"you all\", \"y'all'd\": \"you all would\",\"y'all'd've\": \"you all would have\",\"y'all're\": \"you all are\",\"y'all've\": \"you all have\",\"you'd\": \"you would\", \"you'd've\": \"you would have\", \"you'll\": \"you will\", \"you'll've\": \"you will have\", \"you're\": \"you are\", \"you've\": \"you have\", 'colour': 'color', 'centre': 'center', 'favourite': 'favorite', 'travelling': 'traveling', 'counselling': 'counseling', 'theatre': 'theater', 'cancelled': 'canceled', 'labour': 'labor', 'organisation': 'organization', 'wwii': 'world war 2', 'citicise': 'criticize', 'youtu ': 'youtube ', 'Qoura': 'Quora', 'sallary': 'salary', 'Whta': 'What', 'narcisist': 'narcissist', 'howdo': 'how do', 'whatare': 'what are', 'howcan': 'how can', 'howmuch': 'how much', 'howmany': 'how many', 'whydo': 'why do', 'doI': 'do I', 'theBest': 'the best', 'howdoes': 'how does', 'mastrubation': 'masturbation', 'mastrubate': 'masturbate', \"mastrubating\": 'masturbating', 'pennis': 'penis', 'Etherium': 'Ethereum', 'narcissit': 'narcissist', 'bigdata': 'big data', '2k17': '2017', '2k18': '2018', 'qouta': 'quota', 'exboyfriend': 'ex boyfriend', 'airhostess': 'air hostess', \"whst\": 'what', 'watsapp': 'whatsapp', 'demonitisation': 'demonetization', 'demonitization': 'demonetization', 'demonetisation': 'demonetization'}"
   ]
  },
  {
   "cell_type": "code",
   "execution_count": 10,
   "metadata": {
    "execution": {
     "iopub.execute_input": "2020-12-15T03:21:06.235184Z",
     "iopub.status.busy": "2020-12-15T03:21:06.234300Z",
     "iopub.status.idle": "2020-12-15T03:21:06.237795Z",
     "shell.execute_reply": "2020-12-15T03:21:06.237169Z"
    },
    "papermill": {
     "duration": 0.056984,
     "end_time": "2020-12-15T03:21:06.237967",
     "exception": false,
     "start_time": "2020-12-15T03:21:06.180983",
     "status": "completed"
    },
    "tags": []
   },
   "outputs": [],
   "source": [
    "def _get_mispell(mispell_dict):\n",
    "    mispell_re = re.compile('(%s)' % '|'.join(mispell_dict.keys()))\n",
    "    return mispell_dict, mispell_re\n",
    "\n",
    "mispellings, mispellings_re = _get_mispell(mispell_dict)\n",
    "def replace_misspell(text):\n",
    "    def replace(match):\n",
    "        return mispellings[match.group(0)]\n",
    "    return mispellings_re.sub(replace, text)"
   ]
  },
  {
   "cell_type": "code",
   "execution_count": 11,
   "metadata": {
    "execution": {
     "iopub.execute_input": "2020-12-15T03:21:06.340040Z",
     "iopub.status.busy": "2020-12-15T03:21:06.339273Z",
     "iopub.status.idle": "2020-12-15T03:21:08.441475Z",
     "shell.execute_reply": "2020-12-15T03:21:08.440741Z"
    },
    "papermill": {
     "duration": 2.161978,
     "end_time": "2020-12-15T03:21:08.441601",
     "exception": false,
     "start_time": "2020-12-15T03:21:06.279623",
     "status": "completed"
    },
    "tags": []
   },
   "outputs": [
    {
     "data": {
      "text/html": [
       "<div>\n",
       "<style scoped>\n",
       "    .dataframe tbody tr th:only-of-type {\n",
       "        vertical-align: middle;\n",
       "    }\n",
       "\n",
       "    .dataframe tbody tr th {\n",
       "        vertical-align: top;\n",
       "    }\n",
       "\n",
       "    .dataframe thead th {\n",
       "        text-align: right;\n",
       "    }\n",
       "</style>\n",
       "<table border=\"1\" class=\"dataframe\">\n",
       "  <thead>\n",
       "    <tr style=\"text-align: right;\">\n",
       "      <th></th>\n",
       "      <th>id</th>\n",
       "      <th>keyword</th>\n",
       "      <th>location</th>\n",
       "      <th>text</th>\n",
       "      <th>target</th>\n",
       "    </tr>\n",
       "  </thead>\n",
       "  <tbody>\n",
       "    <tr>\n",
       "      <th>0</th>\n",
       "      <td>1</td>\n",
       "      <td>NaN</td>\n",
       "      <td>NaN</td>\n",
       "      <td>deeds reason earthquake may allah forgive us</td>\n",
       "      <td>1</td>\n",
       "    </tr>\n",
       "    <tr>\n",
       "      <th>1</th>\n",
       "      <td>4</td>\n",
       "      <td>NaN</td>\n",
       "      <td>NaN</td>\n",
       "      <td>forest fire near la ronge sask canada</td>\n",
       "      <td>1</td>\n",
       "    </tr>\n",
       "    <tr>\n",
       "      <th>2</th>\n",
       "      <td>5</td>\n",
       "      <td>NaN</td>\n",
       "      <td>NaN</td>\n",
       "      <td>residents asked shelter place notified officer...</td>\n",
       "      <td>1</td>\n",
       "    </tr>\n",
       "    <tr>\n",
       "      <th>3</th>\n",
       "      <td>6</td>\n",
       "      <td>NaN</td>\n",
       "      <td>NaN</td>\n",
       "      <td>, people receive wildfires evacuation orders c...</td>\n",
       "      <td>1</td>\n",
       "    </tr>\n",
       "    <tr>\n",
       "      <th>4</th>\n",
       "      <td>7</td>\n",
       "      <td>NaN</td>\n",
       "      <td>NaN</td>\n",
       "      <td>got sent photo ruby alaska smoke wildfires pou...</td>\n",
       "      <td>1</td>\n",
       "    </tr>\n",
       "  </tbody>\n",
       "</table>\n",
       "</div>"
      ],
      "text/plain": [
       "   id keyword location                                               text  \\\n",
       "0   1     NaN      NaN       deeds reason earthquake may allah forgive us   \n",
       "1   4     NaN      NaN              forest fire near la ronge sask canada   \n",
       "2   5     NaN      NaN  residents asked shelter place notified officer...   \n",
       "3   6     NaN      NaN  , people receive wildfires evacuation orders c...   \n",
       "4   7     NaN      NaN  got sent photo ruby alaska smoke wildfires pou...   \n",
       "\n",
       "   target  \n",
       "0       1  \n",
       "1       1  \n",
       "2       1  \n",
       "3       1  \n",
       "4       1  "
      ]
     },
     "execution_count": 11,
     "metadata": {},
     "output_type": "execute_result"
    }
   ],
   "source": [
    "train_data['text'] = train_data['text'].str.lower()\n",
    "train_data['text'] = train_data['text'].apply(lambda x: clean_text(x))\n",
    "train_data['text'] = train_data['text'].apply(lambda x: replace_misspell(x))\n",
    "\n",
    " \n",
    "train_data.head()"
   ]
  },
  {
   "cell_type": "code",
   "execution_count": 12,
   "metadata": {
    "execution": {
     "iopub.execute_input": "2020-12-15T03:21:08.532102Z",
     "iopub.status.busy": "2020-12-15T03:21:08.531217Z",
     "iopub.status.idle": "2020-12-15T03:21:09.458187Z",
     "shell.execute_reply": "2020-12-15T03:21:09.457336Z"
    },
    "papermill": {
     "duration": 0.978249,
     "end_time": "2020-12-15T03:21:09.458332",
     "exception": false,
     "start_time": "2020-12-15T03:21:08.480083",
     "status": "completed"
    },
    "tags": []
   },
   "outputs": [
    {
     "data": {
      "text/html": [
       "<div>\n",
       "<style scoped>\n",
       "    .dataframe tbody tr th:only-of-type {\n",
       "        vertical-align: middle;\n",
       "    }\n",
       "\n",
       "    .dataframe tbody tr th {\n",
       "        vertical-align: top;\n",
       "    }\n",
       "\n",
       "    .dataframe thead th {\n",
       "        text-align: right;\n",
       "    }\n",
       "</style>\n",
       "<table border=\"1\" class=\"dataframe\">\n",
       "  <thead>\n",
       "    <tr style=\"text-align: right;\">\n",
       "      <th></th>\n",
       "      <th>id</th>\n",
       "      <th>keyword</th>\n",
       "      <th>location</th>\n",
       "      <th>text</th>\n",
       "    </tr>\n",
       "  </thead>\n",
       "  <tbody>\n",
       "    <tr>\n",
       "      <th>0</th>\n",
       "      <td>0</td>\n",
       "      <td>NaN</td>\n",
       "      <td>NaN</td>\n",
       "      <td>happened terrible car crash</td>\n",
       "    </tr>\n",
       "    <tr>\n",
       "      <th>1</th>\n",
       "      <td>2</td>\n",
       "      <td>NaN</td>\n",
       "      <td>NaN</td>\n",
       "      <td>heard earthquake different cities, stay safe e...</td>\n",
       "    </tr>\n",
       "    <tr>\n",
       "      <th>2</th>\n",
       "      <td>3</td>\n",
       "      <td>NaN</td>\n",
       "      <td>NaN</td>\n",
       "      <td>forest fire spot pond, geese fleeing across st...</td>\n",
       "    </tr>\n",
       "    <tr>\n",
       "      <th>3</th>\n",
       "      <td>9</td>\n",
       "      <td>NaN</td>\n",
       "      <td>NaN</td>\n",
       "      <td>apocalypse lighting spokane wildfires</td>\n",
       "    </tr>\n",
       "    <tr>\n",
       "      <th>4</th>\n",
       "      <td>11</td>\n",
       "      <td>NaN</td>\n",
       "      <td>NaN</td>\n",
       "      <td>typhoon soudelor kills china taiwan</td>\n",
       "    </tr>\n",
       "  </tbody>\n",
       "</table>\n",
       "</div>"
      ],
      "text/plain": [
       "   id keyword location                                               text\n",
       "0   0     NaN      NaN                        happened terrible car crash\n",
       "1   2     NaN      NaN  heard earthquake different cities, stay safe e...\n",
       "2   3     NaN      NaN  forest fire spot pond, geese fleeing across st...\n",
       "3   9     NaN      NaN              apocalypse lighting spokane wildfires\n",
       "4  11     NaN      NaN                typhoon soudelor kills china taiwan"
      ]
     },
     "execution_count": 12,
     "metadata": {},
     "output_type": "execute_result"
    }
   ],
   "source": [
    "test_data['text'] = test_data['text'].str.lower()\n",
    "test_data['text'] = test_data['text'].apply(lambda x: clean_text(x))\n",
    "test_data['text'] = test_data['text'].apply(lambda x: replace_misspell(x))\n",
    "\n",
    "\n",
    "test_data.head()"
   ]
  },
  {
   "cell_type": "code",
   "execution_count": 13,
   "metadata": {
    "execution": {
     "iopub.execute_input": "2020-12-15T03:21:09.549108Z",
     "iopub.status.busy": "2020-12-15T03:21:09.548043Z",
     "iopub.status.idle": "2020-12-15T03:21:09.551441Z",
     "shell.execute_reply": "2020-12-15T03:21:09.550641Z"
    },
    "papermill": {
     "duration": 0.053186,
     "end_time": "2020-12-15T03:21:09.551574",
     "exception": false,
     "start_time": "2020-12-15T03:21:09.498388",
     "status": "completed"
    },
    "tags": []
   },
   "outputs": [],
   "source": [
    "x_train,x_test,y_train,y_test=train_test_split(train_data['text'].values,train_data['target'].values,test_size=0.2,random_state=123)\n",
    "x_train,x_val,y_train,y_val=train_test_split(x_train,y_train,test_size=0.1,random_state=123)"
   ]
  },
  {
   "cell_type": "code",
   "execution_count": 14,
   "metadata": {
    "execution": {
     "iopub.execute_input": "2020-12-15T03:21:09.660215Z",
     "iopub.status.busy": "2020-12-15T03:21:09.639341Z",
     "iopub.status.idle": "2020-12-15T03:21:09.807275Z",
     "shell.execute_reply": "2020-12-15T03:21:09.806584Z"
    },
    "papermill": {
     "duration": 0.216274,
     "end_time": "2020-12-15T03:21:09.807407",
     "exception": false,
     "start_time": "2020-12-15T03:21:09.591133",
     "status": "completed"
    },
    "tags": []
   },
   "outputs": [],
   "source": [
    "tokenizer = Tokenizer(num_words=None)\n",
    "tokenizer.fit_on_texts(x_train)\n",
    "\n",
    "word_index = tokenizer.word_index\n",
    "num_words = len(tokenizer.word_index) + 1"
   ]
  },
  {
   "cell_type": "code",
   "execution_count": 15,
   "metadata": {
    "execution": {
     "iopub.execute_input": "2020-12-15T03:21:09.922732Z",
     "iopub.status.busy": "2020-12-15T03:21:09.896744Z",
     "iopub.status.idle": "2020-12-15T03:21:10.126317Z",
     "shell.execute_reply": "2020-12-15T03:21:10.125487Z"
    },
    "papermill": {
     "duration": 0.279615,
     "end_time": "2020-12-15T03:21:10.126461",
     "exception": false,
     "start_time": "2020-12-15T03:21:09.846846",
     "status": "completed"
    },
    "tags": []
   },
   "outputs": [],
   "source": [
    "train_sequences = tokenizer.texts_to_sequences(x_train)\n",
    "train_padded = tf.keras.preprocessing.sequence.pad_sequences(train_sequences,padding='post')\n",
    "\n",
    "validation_sequences = tokenizer.texts_to_sequences(x_val)\n",
    "validation_padded = tf.keras.preprocessing.sequence.pad_sequences(validation_sequences,padding='post')\n",
    "\n",
    "test_sequences = tokenizer.texts_to_sequences(x_test)\n",
    "test_padded = tf.keras.preprocessing.sequence.pad_sequences(test_sequences,padding='post')"
   ]
  },
  {
   "cell_type": "code",
   "execution_count": 16,
   "metadata": {
    "execution": {
     "iopub.execute_input": "2020-12-15T03:21:10.241284Z",
     "iopub.status.busy": "2020-12-15T03:21:10.220537Z",
     "iopub.status.idle": "2020-12-15T03:21:10.311270Z",
     "shell.execute_reply": "2020-12-15T03:21:10.310557Z"
    },
    "papermill": {
     "duration": 0.144456,
     "end_time": "2020-12-15T03:21:10.311407",
     "exception": false,
     "start_time": "2020-12-15T03:21:10.166951",
     "status": "completed"
    },
    "tags": []
   },
   "outputs": [],
   "source": [
    "#Actual test data- test_data\n",
    "test1_sequences = tokenizer.texts_to_sequences(test_data.text)\n",
    "test1_padded = pad_sequences(test1_sequences, maxlen=20, padding='post', truncating='post')"
   ]
  },
  {
   "cell_type": "code",
   "execution_count": 17,
   "metadata": {
    "execution": {
     "iopub.execute_input": "2020-12-15T03:21:10.402499Z",
     "iopub.status.busy": "2020-12-15T03:21:10.401614Z",
     "iopub.status.idle": "2020-12-15T03:21:11.036508Z",
     "shell.execute_reply": "2020-12-15T03:21:11.037862Z"
    },
    "papermill": {
     "duration": 0.687048,
     "end_time": "2020-12-15T03:21:11.038593",
     "exception": false,
     "start_time": "2020-12-15T03:21:10.351545",
     "status": "completed"
    },
    "tags": []
   },
   "outputs": [],
   "source": [
    "model = tf.keras.Sequential([\n",
    "tf.keras.layers.Embedding(num_words, 100),\n",
    "#tf.keras.layers.LSTM(64),\n",
    "tf.keras.layers.Bidirectional(tf.keras.layers.LSTM(128,recurrent_dropout=0.1)),\n",
    "tf.keras.layers.Dense(128, activation='relu'),\n",
    "tf.keras.layers.Dense(1, activation='sigmoid')\n",
    "])\n",
    "\n",
    "model.compile(loss='binary_crossentropy',optimizer=tf.keras.optimizers.Adam(1e-4),metrics=['accuracy'])"
   ]
  },
  {
   "cell_type": "code",
   "execution_count": 18,
   "metadata": {
    "execution": {
     "iopub.execute_input": "2020-12-15T03:21:11.134824Z",
     "iopub.status.busy": "2020-12-15T03:21:11.133586Z",
     "iopub.status.idle": "2020-12-15T03:21:11.143158Z",
     "shell.execute_reply": "2020-12-15T03:21:11.142508Z"
    },
    "papermill": {
     "duration": 0.059845,
     "end_time": "2020-12-15T03:21:11.143298",
     "exception": false,
     "start_time": "2020-12-15T03:21:11.083453",
     "status": "completed"
    },
    "tags": []
   },
   "outputs": [
    {
     "name": "stdout",
     "output_type": "stream",
     "text": [
      "Model: \"sequential\"\n",
      "_________________________________________________________________\n",
      "Layer (type)                 Output Shape              Param #   \n",
      "=================================================================\n",
      "embedding (Embedding)        (None, None, 100)         1765200   \n",
      "_________________________________________________________________\n",
      "bidirectional (Bidirectional (None, 256)               234496    \n",
      "_________________________________________________________________\n",
      "dense (Dense)                (None, 128)               32896     \n",
      "_________________________________________________________________\n",
      "dense_1 (Dense)              (None, 1)                 129       \n",
      "=================================================================\n",
      "Total params: 2,032,721\n",
      "Trainable params: 2,032,721\n",
      "Non-trainable params: 0\n",
      "_________________________________________________________________\n"
     ]
    }
   ],
   "source": [
    "model.summary()"
   ]
  },
  {
   "cell_type": "code",
   "execution_count": 19,
   "metadata": {
    "execution": {
     "iopub.execute_input": "2020-12-15T03:21:11.234325Z",
     "iopub.status.busy": "2020-12-15T03:21:11.233256Z",
     "iopub.status.idle": "2020-12-15T03:21:11.237043Z",
     "shell.execute_reply": "2020-12-15T03:21:11.236419Z"
    },
    "papermill": {
     "duration": 0.05109,
     "end_time": "2020-12-15T03:21:11.237201",
     "exception": false,
     "start_time": "2020-12-15T03:21:11.186111",
     "status": "completed"
    },
    "tags": []
   },
   "outputs": [],
   "source": [
    "num_epochs = 20"
   ]
  },
  {
   "cell_type": "code",
   "execution_count": 20,
   "metadata": {
    "execution": {
     "iopub.execute_input": "2020-12-15T03:21:11.325779Z",
     "iopub.status.busy": "2020-12-15T03:21:11.324968Z",
     "iopub.status.idle": "2020-12-15T03:26:05.453768Z",
     "shell.execute_reply": "2020-12-15T03:26:05.452872Z"
    },
    "papermill": {
     "duration": 294.175861,
     "end_time": "2020-12-15T03:26:05.453932",
     "exception": false,
     "start_time": "2020-12-15T03:21:11.278071",
     "status": "completed"
    },
    "tags": []
   },
   "outputs": [
    {
     "name": "stdout",
     "output_type": "stream",
     "text": [
      "Epoch 1/20\n",
      "172/172 - 15s - loss: 0.6650 - accuracy: 0.5864 - val_loss: 0.6270 - val_accuracy: 0.6568\n",
      "Epoch 2/20\n",
      "172/172 - 14s - loss: 0.5535 - accuracy: 0.7435 - val_loss: 0.4872 - val_accuracy: 0.7865\n",
      "Epoch 3/20\n",
      "172/172 - 15s - loss: 0.3113 - accuracy: 0.8779 - val_loss: 0.4771 - val_accuracy: 0.7882\n",
      "Epoch 4/20\n",
      "172/172 - 14s - loss: 0.1862 - accuracy: 0.9336 - val_loss: 0.5309 - val_accuracy: 0.7734\n",
      "Epoch 5/20\n",
      "172/172 - 14s - loss: 0.1095 - accuracy: 0.9591 - val_loss: 0.5876 - val_accuracy: 0.7570\n",
      "Epoch 6/20\n",
      "172/172 - 14s - loss: 0.0600 - accuracy: 0.9810 - val_loss: 0.7330 - val_accuracy: 0.7291\n",
      "Epoch 7/20\n",
      "172/172 - 15s - loss: 0.0434 - accuracy: 0.9838 - val_loss: 0.8650 - val_accuracy: 0.6962\n",
      "Epoch 8/20\n",
      "172/172 - 14s - loss: 0.0282 - accuracy: 0.9900 - val_loss: 0.8389 - val_accuracy: 0.7471\n",
      "Epoch 9/20\n",
      "172/172 - 14s - loss: 0.0228 - accuracy: 0.9929 - val_loss: 0.8328 - val_accuracy: 0.7406\n",
      "Epoch 10/20\n",
      "172/172 - 14s - loss: 0.0197 - accuracy: 0.9945 - val_loss: 0.8644 - val_accuracy: 0.7192\n",
      "Epoch 11/20\n",
      "172/172 - 14s - loss: 0.0155 - accuracy: 0.9962 - val_loss: 0.8808 - val_accuracy: 0.7323\n",
      "Epoch 12/20\n",
      "172/172 - 15s - loss: 0.0154 - accuracy: 0.9949 - val_loss: 0.8537 - val_accuracy: 0.7422\n",
      "Epoch 13/20\n",
      "172/172 - 14s - loss: 0.0159 - accuracy: 0.9943 - val_loss: 0.8794 - val_accuracy: 0.7225\n",
      "Epoch 14/20\n",
      "172/172 - 14s - loss: 0.0129 - accuracy: 0.9956 - val_loss: 0.8947 - val_accuracy: 0.7553\n",
      "Epoch 15/20\n",
      "172/172 - 14s - loss: 0.0126 - accuracy: 0.9958 - val_loss: 0.9000 - val_accuracy: 0.7389\n",
      "Epoch 16/20\n",
      "172/172 - 15s - loss: 0.0108 - accuracy: 0.9967 - val_loss: 0.9928 - val_accuracy: 0.7126\n",
      "Epoch 17/20\n",
      "172/172 - 14s - loss: 0.0107 - accuracy: 0.9965 - val_loss: 0.9060 - val_accuracy: 0.7406\n",
      "Epoch 18/20\n",
      "172/172 - 14s - loss: 0.0109 - accuracy: 0.9965 - val_loss: 0.9134 - val_accuracy: 0.7159\n",
      "Epoch 19/20\n",
      "172/172 - 14s - loss: 0.0110 - accuracy: 0.9960 - val_loss: 0.9236 - val_accuracy: 0.7323\n",
      "Epoch 20/20\n",
      "172/172 - 15s - loss: 0.0110 - accuracy: 0.9965 - val_loss: 0.9585 - val_accuracy: 0.7159\n"
     ]
    }
   ],
   "source": [
    "history = model.fit(train_padded, y_train, epochs=num_epochs,validation_data=(validation_padded, y_val), verbose=2)"
   ]
  },
  {
   "cell_type": "code",
   "execution_count": 21,
   "metadata": {
    "execution": {
     "iopub.execute_input": "2020-12-15T03:26:05.577572Z",
     "iopub.status.busy": "2020-12-15T03:26:05.576345Z",
     "iopub.status.idle": "2020-12-15T03:26:06.457106Z",
     "shell.execute_reply": "2020-12-15T03:26:06.456325Z"
    },
    "papermill": {
     "duration": 0.943576,
     "end_time": "2020-12-15T03:26:06.457277",
     "exception": false,
     "start_time": "2020-12-15T03:26:05.513701",
     "status": "completed"
    },
    "tags": []
   },
   "outputs": [],
   "source": [
    "y_pred = model.predict_classes(test_padded)"
   ]
  },
  {
   "cell_type": "code",
   "execution_count": 22,
   "metadata": {
    "execution": {
     "iopub.execute_input": "2020-12-15T03:26:06.581370Z",
     "iopub.status.busy": "2020-12-15T03:26:06.580612Z",
     "iopub.status.idle": "2020-12-15T03:26:06.785277Z",
     "shell.execute_reply": "2020-12-15T03:26:06.784528Z"
    },
    "papermill": {
     "duration": 0.269873,
     "end_time": "2020-12-15T03:26:06.785411",
     "exception": false,
     "start_time": "2020-12-15T03:26:06.515538",
     "status": "completed"
    },
    "tags": []
   },
   "outputs": [
    {
     "data": {
      "image/png": "[encoded data removed]",
      "text/plain": [
       "<Figure size 432x288 with 2 Axes>"
      ]
     },
     "metadata": {
      "needs_background": "light"
     },
     "output_type": "display_data"
    }
   ],
   "source": [
    "cnf_matrix = confusion_matrix(y_test,y_pred)\n",
    "group_names = ['TN','FP','FN','TP']\n",
    "group_counts = [\"{0:0.0f}\".format(value) for value in cnf_matrix.flatten()]\n",
    "labels = [f\"{v1}\\n{v2}\" for v1, v2 in zip(group_names,group_counts)]\n",
    "labels = np.asarray(labels).reshape(2,2)\n",
    "sns.heatmap(cnf_matrix, annot=labels, fmt='', cmap='YlGnBu');"
   ]
  },
  {
   "cell_type": "code",
   "execution_count": 23,
   "metadata": {
    "execution": {
     "iopub.execute_input": "2020-12-15T03:26:06.907617Z",
     "iopub.status.busy": "2020-12-15T03:26:06.906765Z",
     "iopub.status.idle": "2020-12-15T03:26:06.917851Z",
     "shell.execute_reply": "2020-12-15T03:26:06.918795Z"
    },
    "papermill": {
     "duration": 0.075636,
     "end_time": "2020-12-15T03:26:06.919029",
     "exception": false,
     "start_time": "2020-12-15T03:26:06.843393",
     "status": "completed"
    },
    "tags": []
   },
   "outputs": [
    {
     "name": "stdout",
     "output_type": "stream",
     "text": [
      "              precision    recall  f1-score   support\n",
      "\n",
      "           0       0.80      0.75      0.77       879\n",
      "           1       0.68      0.75      0.71       644\n",
      "\n",
      "    accuracy                           0.75      1523\n",
      "   macro avg       0.74      0.75      0.74      1523\n",
      "weighted avg       0.75      0.75      0.75      1523\n",
      "\n"
     ]
    }
   ],
   "source": [
    "print(classification_report(y_test,y_pred))"
   ]
  },
  {
   "cell_type": "code",
   "execution_count": 24,
   "metadata": {
    "execution": {
     "iopub.execute_input": "2020-12-15T03:26:07.064511Z",
     "iopub.status.busy": "2020-12-15T03:26:07.056092Z",
     "iopub.status.idle": "2020-12-15T03:26:07.241225Z",
     "shell.execute_reply": "2020-12-15T03:26:07.240488Z"
    },
    "papermill": {
     "duration": 0.253057,
     "end_time": "2020-12-15T03:26:07.241407",
     "exception": false,
     "start_time": "2020-12-15T03:26:06.988350",
     "status": "completed"
    },
    "tags": []
   },
   "outputs": [
    {
     "data": {
      "image/png": "[encoded data removed]",
      "text/plain": [
       "<Figure size 432x288 with 1 Axes>"
      ]
     },
     "metadata": {
      "needs_background": "light"
     },
     "output_type": "display_data"
    }
   ],
   "source": [
    "plt.plot(history.history['accuracy'])\n",
    "plt.plot(history.history['val_accuracy'])\n",
    "plt.title('Model Performance')\n",
    "plt.ylabel('Accuracy')\n",
    "plt.xlabel('epoch')\n",
    "plt.legend(['train', 'val'], loc='upper right')\n",
    "plt.box(False)\n",
    "plt.show()"
   ]
  },
  {
   "cell_type": "code",
   "execution_count": 25,
   "metadata": {
    "execution": {
     "iopub.execute_input": "2020-12-15T03:26:07.368694Z",
     "iopub.status.busy": "2020-12-15T03:26:07.367817Z",
     "iopub.status.idle": "2020-12-15T03:26:29.402913Z",
     "shell.execute_reply": "2020-12-15T03:26:29.402046Z"
    },
    "papermill": {
     "duration": 22.102326,
     "end_time": "2020-12-15T03:26:29.403064",
     "exception": false,
     "start_time": "2020-12-15T03:26:07.300738",
     "status": "completed"
    },
    "tags": []
   },
   "outputs": [],
   "source": [
    "embedding_dict={}\n",
    "with open('../input/glove6b100dtxt/glove.6B.100d.txt','r') as f:\n",
    "    for line in f:\n",
    "        values=line.split()\n",
    "        word = values[0]\n",
    "        vectors=np.asarray(values[1:],'float32')\n",
    "        embedding_dict[word]=vectors\n",
    "f.close()\n"
   ]
  },
  {
   "cell_type": "code",
   "execution_count": 26,
   "metadata": {
    "execution": {
     "iopub.execute_input": "2020-12-15T03:26:29.533598Z",
     "iopub.status.busy": "2020-12-15T03:26:29.532449Z",
     "iopub.status.idle": "2020-12-15T03:26:29.616025Z",
     "shell.execute_reply": "2020-12-15T03:26:29.616828Z"
    },
    "papermill": {
     "duration": 0.153538,
     "end_time": "2020-12-15T03:26:29.616983",
     "exception": false,
     "start_time": "2020-12-15T03:26:29.463445",
     "status": "completed"
    },
    "tags": []
   },
   "outputs": [
    {
     "name": "stderr",
     "output_type": "stream",
     "text": [
      "100%|██████████| 17651/17651 [00:00<00:00, 232843.20it/s]\n"
     ]
    }
   ],
   "source": [
    "words_na = []\n",
    "embedding_matrix = np.zeros((num_words,100))\n",
    "word_index = tokenizer.word_index\n",
    "for word,i in tqdm(word_index.items()):\n",
    "    if i > num_words:\n",
    "        continue\n",
    "    emb_vec=embedding_dict.get(word)\n",
    "    \n",
    "    if emb_vec is None:\n",
    "        \n",
    "        \n",
    "        words_na.append(word)\n",
    "    \n",
    "    elif emb_vec is not None:\n",
    "        embedding_matrix[i]=emb_vec"
   ]
  },
  {
   "cell_type": "code",
   "execution_count": 27,
   "metadata": {
    "execution": {
     "iopub.execute_input": "2020-12-15T03:26:29.746441Z",
     "iopub.status.busy": "2020-12-15T03:26:29.745526Z",
     "iopub.status.idle": "2020-12-15T03:26:29.750361Z",
     "shell.execute_reply": "2020-12-15T03:26:29.749398Z"
    },
    "papermill": {
     "duration": 0.07153,
     "end_time": "2020-12-15T03:26:29.750522",
     "exception": false,
     "start_time": "2020-12-15T03:26:29.678992",
     "status": "completed"
    },
    "tags": []
   },
   "outputs": [
    {
     "name": "stdout",
     "output_type": "stream",
     "text": [
      "Out of vocabulory words: 6572\n"
     ]
    }
   ],
   "source": [
    "print(\"Out of vocabulory words:\",len(words_na))"
   ]
  },
  {
   "cell_type": "code",
   "execution_count": 28,
   "metadata": {
    "execution": {
     "iopub.execute_input": "2020-12-15T03:26:29.896804Z",
     "iopub.status.busy": "2020-12-15T03:26:29.895571Z",
     "iopub.status.idle": "2020-12-15T03:26:30.500994Z",
     "shell.execute_reply": "2020-12-15T03:26:30.501708Z"
    },
    "papermill": {
     "duration": 0.688832,
     "end_time": "2020-12-15T03:26:30.501891",
     "exception": false,
     "start_time": "2020-12-15T03:26:29.813059",
     "status": "completed"
    },
    "tags": []
   },
   "outputs": [],
   "source": [
    "model2 = tf.keras.Sequential([\n",
    "tf.keras.layers.Embedding(num_words,100,embeddings_initializer=Constant(embedding_matrix),trainable=False),\n",
    "#tf.keras.layers.LSTM(64),\n",
    "tf.keras.layers.Bidirectional(tf.keras.layers.LSTM(128)),\n",
    "tf.keras.layers.Dense(128, activation='relu'),\n",
    "# tf.keras.layers.Dense(256, activation = 'relu'),    \n",
    "tf.keras.layers.Dense(1, activation='sigmoid')\n",
    "])\n",
    "\n",
    "model2.compile(loss='binary_crossentropy',optimizer=tf.keras.optimizers.Adam(1e-4),metrics=['accuracy'])"
   ]
  },
  {
   "cell_type": "code",
   "execution_count": 29,
   "metadata": {
    "execution": {
     "iopub.execute_input": "2020-12-15T03:26:30.635499Z",
     "iopub.status.busy": "2020-12-15T03:26:30.634740Z",
     "iopub.status.idle": "2020-12-15T03:26:30.642021Z",
     "shell.execute_reply": "2020-12-15T03:26:30.641431Z"
    },
    "papermill": {
     "duration": 0.077411,
     "end_time": "2020-12-15T03:26:30.642167",
     "exception": false,
     "start_time": "2020-12-15T03:26:30.564756",
     "status": "completed"
    },
    "tags": []
   },
   "outputs": [
    {
     "name": "stdout",
     "output_type": "stream",
     "text": [
      "Model: \"sequential_1\"\n",
      "_________________________________________________________________\n",
      "Layer (type)                 Output Shape              Param #   \n",
      "=================================================================\n",
      "embedding_1 (Embedding)      (None, None, 100)         1765200   \n",
      "_________________________________________________________________\n",
      "bidirectional_1 (Bidirection (None, 256)               234496    \n",
      "_________________________________________________________________\n",
      "dense_2 (Dense)              (None, 128)               32896     \n",
      "_________________________________________________________________\n",
      "dense_3 (Dense)              (None, 1)                 129       \n",
      "=================================================================\n",
      "Total params: 2,032,721\n",
      "Trainable params: 267,521\n",
      "Non-trainable params: 1,765,200\n",
      "_________________________________________________________________\n"
     ]
    }
   ],
   "source": [
    "model2.summary()"
   ]
  },
  {
   "cell_type": "code",
   "execution_count": 30,
   "metadata": {
    "execution": {
     "iopub.execute_input": "2020-12-15T03:26:30.777115Z",
     "iopub.status.busy": "2020-12-15T03:26:30.776360Z",
     "iopub.status.idle": "2020-12-15T03:28:04.196432Z",
     "shell.execute_reply": "2020-12-15T03:28:04.197346Z"
    },
    "papermill": {
     "duration": 93.492342,
     "end_time": "2020-12-15T03:28:04.197587",
     "exception": false,
     "start_time": "2020-12-15T03:26:30.705245",
     "status": "completed"
    },
    "tags": []
   },
   "outputs": [
    {
     "name": "stdout",
     "output_type": "stream",
     "text": [
      "Epoch 1/20\n",
      "172/172 - 6s - loss: 0.5607 - accuracy: 0.7367 - val_loss: 0.5130 - val_accuracy: 0.7635\n",
      "Epoch 2/20\n",
      "172/172 - 5s - loss: 0.4379 - accuracy: 0.8050 - val_loss: 0.4700 - val_accuracy: 0.7898\n",
      "Epoch 3/20\n",
      "172/172 - 5s - loss: 0.4186 - accuracy: 0.8188 - val_loss: 0.4848 - val_accuracy: 0.7865\n",
      "Epoch 4/20\n",
      "172/172 - 5s - loss: 0.4119 - accuracy: 0.8217 - val_loss: 0.4565 - val_accuracy: 0.7882\n",
      "Epoch 5/20\n",
      "172/172 - 5s - loss: 0.4028 - accuracy: 0.8245 - val_loss: 0.4498 - val_accuracy: 0.7947\n",
      "Epoch 6/20\n",
      "172/172 - 5s - loss: 0.3961 - accuracy: 0.8221 - val_loss: 0.4516 - val_accuracy: 0.7915\n",
      "Epoch 7/20\n",
      "172/172 - 5s - loss: 0.3873 - accuracy: 0.8318 - val_loss: 0.4500 - val_accuracy: 0.7997\n",
      "Epoch 8/20\n",
      "172/172 - 5s - loss: 0.3823 - accuracy: 0.8351 - val_loss: 0.4477 - val_accuracy: 0.7997\n",
      "Epoch 9/20\n",
      "172/172 - 5s - loss: 0.3762 - accuracy: 0.8393 - val_loss: 0.4435 - val_accuracy: 0.7947\n",
      "Epoch 10/20\n",
      "172/172 - 5s - loss: 0.3689 - accuracy: 0.8451 - val_loss: 0.4412 - val_accuracy: 0.8013\n",
      "Epoch 11/20\n",
      "172/172 - 5s - loss: 0.3601 - accuracy: 0.8489 - val_loss: 0.4349 - val_accuracy: 0.8095\n",
      "Epoch 12/20\n",
      "172/172 - 5s - loss: 0.3550 - accuracy: 0.8508 - val_loss: 0.4470 - val_accuracy: 0.7980\n",
      "Epoch 13/20\n",
      "172/172 - 5s - loss: 0.3437 - accuracy: 0.8551 - val_loss: 0.4293 - val_accuracy: 0.8062\n",
      "Epoch 14/20\n",
      "172/172 - 5s - loss: 0.3367 - accuracy: 0.8571 - val_loss: 0.4374 - val_accuracy: 0.8079\n",
      "Epoch 15/20\n",
      "172/172 - 5s - loss: 0.3290 - accuracy: 0.8571 - val_loss: 0.4360 - val_accuracy: 0.8030\n",
      "Epoch 16/20\n",
      "172/172 - 5s - loss: 0.3214 - accuracy: 0.8650 - val_loss: 0.4430 - val_accuracy: 0.7997\n",
      "Epoch 17/20\n",
      "172/172 - 5s - loss: 0.3024 - accuracy: 0.8748 - val_loss: 0.4527 - val_accuracy: 0.8144\n",
      "Epoch 18/20\n",
      "172/172 - 5s - loss: 0.2921 - accuracy: 0.8770 - val_loss: 0.4871 - val_accuracy: 0.7931\n"
     ]
    }
   ],
   "source": [
    "earlystop = EarlyStopping(monitor='val_loss', min_delta=0, patience=5, verbose=0,restore_best_weights=True, mode='auto')\n",
    "history = model2.fit(train_padded, y_train, epochs=num_epochs,validation_data=(validation_padded, y_val), verbose=2,callbacks=[earlystop])"
   ]
  },
  {
   "cell_type": "code",
   "execution_count": 31,
   "metadata": {
    "execution": {
     "iopub.execute_input": "2020-12-15T03:28:04.360369Z",
     "iopub.status.busy": "2020-12-15T03:28:04.359286Z",
     "iopub.status.idle": "2020-12-15T03:28:05.535362Z",
     "shell.execute_reply": "2020-12-15T03:28:05.534649Z"
    },
    "papermill": {
     "duration": 1.259775,
     "end_time": "2020-12-15T03:28:05.535511",
     "exception": false,
     "start_time": "2020-12-15T03:28:04.275736",
     "status": "completed"
    },
    "tags": []
   },
   "outputs": [],
   "source": [
    "y_pred = model2.predict_classes(test_padded)"
   ]
  },
  {
   "cell_type": "code",
   "execution_count": 32,
   "metadata": {
    "execution": {
     "iopub.execute_input": "2020-12-15T03:28:05.700075Z",
     "iopub.status.busy": "2020-12-15T03:28:05.699328Z",
     "iopub.status.idle": "2020-12-15T03:28:05.894255Z",
     "shell.execute_reply": "2020-12-15T03:28:05.893623Z"
    },
    "papermill": {
     "duration": 0.280783,
     "end_time": "2020-12-15T03:28:05.894418",
     "exception": false,
     "start_time": "2020-12-15T03:28:05.613635",
     "status": "completed"
    },
    "tags": []
   },
   "outputs": [
    {
     "data": {
      "image/png": "[encoded data removed]",
      "text/plain": [
       "<Figure size 432x288 with 2 Axes>"
      ]
     },
     "metadata": {
      "needs_background": "light"
     },
     "output_type": "display_data"
    }
   ],
   "source": [
    "cnf_matrix = confusion_matrix(y_test,y_pred)\n",
    "group_names = ['TN','FP','FN','TP']\n",
    "group_counts = [\"{0:0.0f}\".format(value) for value in cnf_matrix.flatten()]\n",
    "labels = [f\"{v1}\\n{v2}\" for v1, v2 in zip(group_names,group_counts)]\n",
    "labels = np.asarray(labels).reshape(2,2)\n",
    "sns.heatmap(cnf_matrix, annot=labels, fmt='', cmap='Blues');"
   ]
  },
  {
   "cell_type": "code",
   "execution_count": 33,
   "metadata": {
    "execution": {
     "iopub.execute_input": "2020-12-15T03:28:06.061693Z",
     "iopub.status.busy": "2020-12-15T03:28:06.060564Z",
     "iopub.status.idle": "2020-12-15T03:28:06.072837Z",
     "shell.execute_reply": "2020-12-15T03:28:06.073723Z"
    },
    "papermill": {
     "duration": 0.099015,
     "end_time": "2020-12-15T03:28:06.073948",
     "exception": false,
     "start_time": "2020-12-15T03:28:05.974933",
     "status": "completed"
    },
    "tags": []
   },
   "outputs": [
    {
     "name": "stdout",
     "output_type": "stream",
     "text": [
      "              precision    recall  f1-score   support\n",
      "\n",
      "           0       0.80      0.89      0.84       879\n",
      "           1       0.82      0.69      0.75       644\n",
      "\n",
      "    accuracy                           0.81      1523\n",
      "   macro avg       0.81      0.79      0.80      1523\n",
      "weighted avg       0.81      0.81      0.80      1523\n",
      "\n"
     ]
    }
   ],
   "source": [
    "print(classification_report(y_test,y_pred))"
   ]
  },
  {
   "cell_type": "code",
   "execution_count": 34,
   "metadata": {
    "execution": {
     "iopub.execute_input": "2020-12-15T03:28:06.270856Z",
     "iopub.status.busy": "2020-12-15T03:28:06.269627Z",
     "iopub.status.idle": "2020-12-15T03:28:06.473895Z",
     "shell.execute_reply": "2020-12-15T03:28:06.473132Z"
    },
    "papermill": {
     "duration": 0.313843,
     "end_time": "2020-12-15T03:28:06.474021",
     "exception": false,
     "start_time": "2020-12-15T03:28:06.160178",
     "status": "completed"
    },
    "tags": []
   },
   "outputs": [
    {
     "data": {
      "image/png": "[encoded data removed]",
      "text/plain": [
       "<Figure size 432x288 with 1 Axes>"
      ]
     },
     "metadata": {
      "needs_background": "light"
     },
     "output_type": "display_data"
    }
   ],
   "source": [
    "epochs = range(1,len(history.history['loss'])+1)\n",
    "plt.plot(epochs,history.history['accuracy'])\n",
    "plt.plot(epochs,history.history['val_accuracy'])\n",
    "plt.title('Model Performance')\n",
    "plt.ylabel('Accuracy')\n",
    "plt.xlabel('epoch')\n",
    "plt.xticks(epochs)\n",
    "plt.legend(['train', 'val'], loc='upper right')\n",
    "plt.box(False)\n",
    "plt.show()"
   ]
  },
  {
   "cell_type": "code",
   "execution_count": 35,
   "metadata": {
    "execution": {
     "iopub.execute_input": "2020-12-15T03:28:06.641401Z",
     "iopub.status.busy": "2020-12-15T03:28:06.640412Z",
     "iopub.status.idle": "2020-12-15T03:28:06.643480Z",
     "shell.execute_reply": "2020-12-15T03:28:06.642869Z"
    },
    "papermill": {
     "duration": 0.088373,
     "end_time": "2020-12-15T03:28:06.643615",
     "exception": false,
     "start_time": "2020-12-15T03:28:06.555242",
     "status": "completed"
    },
    "tags": []
   },
   "outputs": [],
   "source": [
    "# y_pred = model2.predict_classes(y_pred)\n",
    "\n"
   ]
  },
  {
   "cell_type": "code",
   "execution_count": 36,
   "metadata": {
    "execution": {
     "iopub.execute_input": "2020-12-15T03:28:06.811918Z",
     "iopub.status.busy": "2020-12-15T03:28:06.811045Z",
     "iopub.status.idle": "2020-12-15T03:28:08.693760Z",
     "shell.execute_reply": "2020-12-15T03:28:08.692912Z"
    },
    "papermill": {
     "duration": 1.969648,
     "end_time": "2020-12-15T03:28:08.693892",
     "exception": false,
     "start_time": "2020-12-15T03:28:06.724244",
     "status": "completed"
    },
    "tags": []
   },
   "outputs": [],
   "source": [
    "test_pred = model2.predict(test1_padded)\n",
    "sub['target'] = (test_pred > 0.5).astype(int)\n",
    "sub.to_csv(\"submission.csv\", index=False, header=True)"
   ]
  },
  {
   "cell_type": "code",
   "execution_count": 37,
   "metadata": {
    "execution": {
     "iopub.execute_input": "2020-12-15T03:28:08.861800Z",
     "iopub.status.busy": "2020-12-15T03:28:08.860858Z",
     "iopub.status.idle": "2020-12-15T03:28:08.864382Z",
     "shell.execute_reply": "2020-12-15T03:28:08.863767Z"
    },
    "papermill": {
     "duration": 0.089179,
     "end_time": "2020-12-15T03:28:08.864515",
     "exception": false,
     "start_time": "2020-12-15T03:28:08.775336",
     "status": "completed"
    },
    "tags": []
   },
   "outputs": [],
   "source": [
    "# sub[\"target\"].shape"
   ]
  },
  {
   "cell_type": "code",
   "execution_count": 38,
   "metadata": {
    "execution": {
     "iopub.execute_input": "2020-12-15T03:28:09.053903Z",
     "iopub.status.busy": "2020-12-15T03:28:09.052988Z",
     "iopub.status.idle": "2020-12-15T03:28:09.057034Z",
     "shell.execute_reply": "2020-12-15T03:28:09.056266Z"
    },
    "papermill": {
     "duration": 0.106699,
     "end_time": "2020-12-15T03:28:09.057220",
     "exception": false,
     "start_time": "2020-12-15T03:28:08.950521",
     "status": "completed"
    },
    "tags": []
   },
   "outputs": [],
   "source": [
    "# sub[\"target\"] = df"
   ]
  },
  {
   "cell_type": "code",
   "execution_count": 39,
   "metadata": {
    "execution": {
     "iopub.execute_input": "2020-12-15T03:28:09.232443Z",
     "iopub.status.busy": "2020-12-15T03:28:09.231324Z",
     "iopub.status.idle": "2020-12-15T03:28:09.235472Z",
     "shell.execute_reply": "2020-12-15T03:28:09.234746Z"
    },
    "papermill": {
     "duration": 0.091431,
     "end_time": "2020-12-15T03:28:09.235620",
     "exception": false,
     "start_time": "2020-12-15T03:28:09.144189",
     "status": "completed"
    },
    "tags": []
   },
   "outputs": [],
   "source": [
    "# print(sub.head())"
   ]
  },
  {
   "cell_type": "code",
   "execution_count": 40,
   "metadata": {
    "execution": {
     "iopub.execute_input": "2020-12-15T03:28:09.403987Z",
     "iopub.status.busy": "2020-12-15T03:28:09.402926Z",
     "iopub.status.idle": "2020-12-15T03:28:09.406527Z",
     "shell.execute_reply": "2020-12-15T03:28:09.405797Z"
    },
    "papermill": {
     "duration": 0.089393,
     "end_time": "2020-12-15T03:28:09.406649",
     "exception": false,
     "start_time": "2020-12-15T03:28:09.317256",
     "status": "completed"
    },
    "tags": []
   },
   "outputs": [],
   "source": [
    "# sub.to_csv(\"submission.csv\", index=False)"
   ]
  },
  {
   "cell_type": "code",
   "execution_count": 41,
   "metadata": {
    "execution": {
     "iopub.execute_input": "2020-12-15T03:28:09.580745Z",
     "iopub.status.busy": "2020-12-15T03:28:09.579755Z",
     "iopub.status.idle": "2020-12-15T03:28:09.583015Z",
     "shell.execute_reply": "2020-12-15T03:28:09.582390Z"
    },
    "papermill": {
     "duration": 0.095267,
     "end_time": "2020-12-15T03:28:09.583160",
     "exception": false,
     "start_time": "2020-12-15T03:28:09.487893",
     "status": "completed"
    },
    "tags": []
   },
   "outputs": [],
   "source": [
    "# from IPython.display import FileLink\n",
    "# FileLink(r'submission.csv')"
   ]
  },
  {
   "cell_type": "code",
   "execution_count": 42,
   "metadata": {
    "execution": {
     "iopub.execute_input": "2020-12-15T03:28:09.751747Z",
     "iopub.status.busy": "2020-12-15T03:28:09.750938Z",
     "iopub.status.idle": "2020-12-15T03:28:09.753595Z",
     "shell.execute_reply": "2020-12-15T03:28:09.754210Z"
    },
    "papermill": {
     "duration": 0.089366,
     "end_time": "2020-12-15T03:28:09.754374",
     "exception": false,
     "start_time": "2020-12-15T03:28:09.665008",
     "status": "completed"
    },
    "tags": []
   },
   "outputs": [],
   "source": [
    "# print(sub)"
   ]
  }
 ],
 "metadata": {
  "kernelspec": {
   "display_name": "Python 3",
   "language": "python",
   "name": "python3"
  },
  "language_info": {
   "codemirror_mode": {
    "name": "ipython",
    "version": 3
   },
   "file_extension": ".py",
   "mimetype": "text/x-python",
   "name": "python",
   "nbconvert_exporter": "python",
   "pygments_lexer": "ipython3",
   "version": "3.8.5"
  },
  "papermill": {
   "duration": 438.8148,
   "end_time": "2020-12-15T03:28:09.945974",
   "environment_variables": {},
   "exception": null,
   "input_path": "__notebook__.ipynb",
   "output_path": "__notebook__.ipynb",
   "parameters": {},
   "start_time": "2020-12-15T03:20:51.131174",
   "version": "2.1.0"
  }
 },
 "nbformat": 4,
 "nbformat_minor": 4
}
